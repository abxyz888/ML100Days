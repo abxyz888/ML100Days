import numpy as np

b = np.linspace(0,20,num = 21,endpoint = True ,dtype=int)
print(b)
print(b[0:21:2])
print(b[0:21:3])